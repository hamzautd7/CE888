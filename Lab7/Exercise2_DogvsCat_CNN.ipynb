{
  "nbformat": 4,
  "nbformat_minor": 0,
  "metadata": {
    "colab": {
      "name": "Exercise2_DogvsCat_CNN.ipynb",
      "provenance": [],
      "collapsed_sections": []
    },
    "kernelspec": {
      "name": "python3",
      "display_name": "Python 3"
    },
    "accelerator": "GPU"
  },
  "cells": [
    {
      "cell_type": "markdown",
      "metadata": {
        "id": "qTh9DiKVslsJ"
      },
      "source": [
        "## Dogs vs. Cats \n",
        "\n",
        "In this competition, you'll write an algorithm to classify whether images contain either a dog or a cat.  This is easy for humans, dogs, and cats. Your computer will find it a bit more difficult.\n",
        "\n",
        "![alt text](https://miro.medium.com/max/3000/1*bhFifratH9DjKqMBTeQG5A.gif)\n",
        "\n",
        "Ref: https://medium.com/@thegrigorian/rolling-in-the-deep-cnn-c8d3f7108c8c"
      ]
    },
    {
      "cell_type": "markdown",
      "metadata": {
        "id": "RSBI-_mSSY1g"
      },
      "source": [
        "Get your API Key from Kaggle using following steps:\n",
        "1. Login to [Kaggle](https://www.kaggle.com/) or Register if you don't have account\n",
        "2. Open Dataset (https://www.kaggle.com/c/dogs-vs-cats/rules) and accept terms and condition. \n",
        "3. On the top right corner click on your Icon and go to accounts and press a button \"Create New API Token\". It will download a JSON file containing your username and key. \n",
        "4. Now, paste both below. \n"
      ]
    },
    {
      "cell_type": "code",
      "metadata": {
        "id": "YmXSOc0tZIGA",
        "colab": {
          "base_uri": "https://localhost:8080/"
        },
        "outputId": "2f74f975-a687-4257-c989-943946f7ad3d"
      },
      "source": [
        "import os\n",
        "os.environ['KAGGLE_USERNAME'] = \"hamzautd\" # username from the json file\n",
        "os.environ['KAGGLE_KEY'] = \"79b354aaa377eb7fde6cac801a152a6c\" # key from the json file\n",
        "!kaggle competitions download -c dogs-vs-cats # api copied from kaggle (https://www.kaggle.com/c/dogs-vs-cats/data)"
      ],
      "execution_count": 1,
      "outputs": [
        {
          "output_type": "stream",
          "text": [
            "Warning: Looks like you're using an outdated API Version, please consider updating (server 1.5.12 / client 1.5.4)\n",
            "Downloading sampleSubmission.csv to /content\n",
            "  0% 0.00/86.8k [00:00<?, ?B/s]\n",
            "100% 86.8k/86.8k [00:00<00:00, 26.7MB/s]\n",
            "Downloading train.zip to /content\n",
            " 97% 528M/543M [00:06<00:00, 46.0MB/s]\n",
            "100% 543M/543M [00:06<00:00, 83.8MB/s]\n",
            "Downloading test1.zip to /content\n",
            " 97% 264M/271M [00:04<00:00, 39.2MB/s]\n",
            "100% 271M/271M [00:04<00:00, 62.0MB/s]\n"
          ],
          "name": "stdout"
        }
      ]
    },
    {
      "cell_type": "code",
      "metadata": {
        "id": "PiwIL8d1n7eS",
        "colab": {
          "base_uri": "https://localhost:8080/"
        },
        "outputId": "e6d8ecec-7dd3-478b-8789-745f51f38d54"
      },
      "source": [
        "# Unzip training data\n",
        "from zipfile import ZipFile\n",
        "file_name = \"/content/train.zip\"\n",
        "with ZipFile(file_name, 'r') as zip:\n",
        "  zip.extractall()\n",
        "  print('done')"
      ],
      "execution_count": 2,
      "outputs": [
        {
          "output_type": "stream",
          "text": [
            "done\n"
          ],
          "name": "stdout"
        }
      ]
    },
    {
      "cell_type": "code",
      "metadata": {
        "id": "sa2Bj5i7pPKV",
        "outputId": "d36df788-7368-4e40-e087-c26f5463b13f",
        "colab": {
          "base_uri": "https://localhost:8080/"
        }
      },
      "source": [
        "# Get all the paths\n",
        "data_dir_list = os.listdir('/content/train')\n",
        "#print(data_dir_list)\n",
        "path, dirs, files = next(os.walk(\"/content/train\"))\n",
        "file_count = len(files)\n",
        "print(file_count)"
      ],
      "execution_count": 3,
      "outputs": [
        {
          "output_type": "stream",
          "text": [
            "25000\n"
          ],
          "name": "stdout"
        }
      ]
    },
    {
      "cell_type": "code",
      "metadata": {
        "id": "0ERlHkfHqpK8"
      },
      "source": [
        "# Make new base directory\n",
        "original_dataset_dir = '/content/train'\n",
        "base_dir = '/content/cats_and_dogs_small'\n",
        "os.mkdir(base_dir)"
      ],
      "execution_count": 4,
      "outputs": []
    },
    {
      "cell_type": "code",
      "metadata": {
        "id": "AANB1UJ6rQhM"
      },
      "source": [
        "train_dir = os.path.join(base_dir, 'train')\n",
        "os.mkdir(train_dir)\n",
        "\n",
        "validation_dir = os.path.join(base_dir, 'validation')\n",
        "os.mkdir(validation_dir)\n",
        "\n",
        "test_dir = os.path.join(base_dir, 'test')\n",
        "os.mkdir(test_dir)\n",
        "\n",
        "train_cats_dir = os.path.join(train_dir, 'cats')\n",
        "os.mkdir(train_cats_dir)\n",
        "\n",
        "train_dogs_dir = os.path.join(train_dir, 'dogs')\n",
        "os.mkdir(train_dogs_dir)\n",
        "\n",
        "validation_cats_dir = os.path.join(validation_dir, 'cats')\n",
        "os.mkdir(validation_cats_dir)\n",
        "\n",
        "validation_dogs_dir = os.path.join(validation_dir, 'dogs')\n",
        "os.mkdir(validation_dogs_dir)\n",
        "\n",
        "test_cats_dir = os.path.join(test_dir, 'cats')\n",
        "os.mkdir(test_cats_dir)\n",
        "\n",
        "test_dogs_dir = os.path.join(test_dir, 'dogs')\n",
        "os.mkdir(test_dogs_dir)"
      ],
      "execution_count": 5,
      "outputs": []
    },
    {
      "cell_type": "code",
      "metadata": {
        "id": "ULRgL9s9rV8T"
      },
      "source": [
        "import shutil\n",
        "fnames = ['cat.{}.jpg'.format(i) for i in range(1000)]\n",
        "for fname in fnames:\n",
        "    src = os.path.join(original_dataset_dir, fname)\n",
        "    dst = os.path.join(train_cats_dir, fname)\n",
        "    #print(src,dst)\n",
        "    shutil.copyfile(src, dst)\n",
        "    \n",
        "fnames = ['cat.{}.jpg'.format(i) for i in range(1000, 1500)]\n",
        "for fname in fnames:\n",
        "    src = os.path.join(original_dataset_dir, fname)\n",
        "    dst = os.path.join(validation_cats_dir, fname)\n",
        "    shutil.copyfile(src, dst)\n",
        "\n",
        "fnames = ['cat.{}.jpg'.format(i) for i in range(1500, 2000)]\n",
        "for fname in fnames:\n",
        "    src = os.path.join(original_dataset_dir, fname)\n",
        "    dst = os.path.join(test_cats_dir, fname)\n",
        "    shutil.copyfile(src, dst)\n",
        "    \n",
        "fnames = ['dog.{}.jpg'.format(i) for i in range(1000)]\n",
        "for fname in fnames:\n",
        "    src = os.path.join(original_dataset_dir, fname)\n",
        "    dst = os.path.join(train_dogs_dir, fname)\n",
        "    shutil.copyfile(src, dst)\n",
        "\n",
        "fnames = ['dog.{}.jpg'.format(i) for i in range(1000, 1500)]\n",
        "for fname in fnames:\n",
        "    src = os.path.join(original_dataset_dir, fname)\n",
        "    dst = os.path.join(validation_dogs_dir, fname)\n",
        "    shutil.copyfile(src, dst)\n",
        "\n",
        "fnames = ['dog.{}.jpg'.format(i) for i in range(1500, 2000)]\n",
        "for fname in fnames:\n",
        "    src = os.path.join(original_dataset_dir, fname)\n",
        "    dst = os.path.join(test_dogs_dir, fname)\n",
        "    shutil.copyfile(src, dst)"
      ],
      "execution_count": 6,
      "outputs": []
    },
    {
      "cell_type": "code",
      "metadata": {
        "id": "ul3XAbIyr7vC",
        "colab": {
          "base_uri": "https://localhost:8080/"
        },
        "outputId": "3d712f52-8658-44fa-a81f-272526ecf59e"
      },
      "source": [
        "print('total training cat images:', len(os.listdir(train_cats_dir)))\n",
        "print('total training dog images:', len(os.listdir(train_dogs_dir)))\n",
        "print('total validation cat images:', len(os.listdir(validation_cats_dir)))\n",
        "\n",
        "print('total validation dog images:', len(os.listdir(validation_dogs_dir)))\n",
        "print('total test cat images:', len(os.listdir(test_cats_dir)))\n",
        "print('total test dog images:', len(os.listdir(test_dogs_dir)))"
      ],
      "execution_count": 7,
      "outputs": [
        {
          "output_type": "stream",
          "text": [
            "total training cat images: 1000\n",
            "total training dog images: 1000\n",
            "total validation cat images: 500\n",
            "total validation dog images: 500\n",
            "total test cat images: 500\n",
            "total test dog images: 500\n"
          ],
          "name": "stdout"
        }
      ]
    },
    {
      "cell_type": "code",
      "metadata": {
        "id": "o9yTA21_r-ma",
        "colab": {
          "base_uri": "https://localhost:8080/"
        },
        "outputId": "2f11a7a0-a2a7-42ad-b0a1-963ca04bf606"
      },
      "source": [
        "from keras import layers\n",
        "from keras import models\n",
        "\n",
        "model = models.Sequential()\n",
        "model.add(layers.Conv2D(32, (3, 3), activation='relu', input_shape=(150, 150, 3)))\n",
        "model.add(layers.MaxPooling2D((2, 2)))\n",
        "model.add(layers.Conv2D(64, (3, 3), activation='relu'))\n",
        "model.add(layers.MaxPooling2D((2, 2)))\n",
        "model.add(layers.Conv2D(128, (3, 3), activation='relu'))\n",
        "model.add(layers.MaxPooling2D((2, 2)))\n",
        "model.add(layers.Conv2D(128, (3, 3), activation='relu'))\n",
        "model.add(layers.MaxPooling2D((2, 2)))\n",
        "model.add(layers.Flatten())\n",
        "model.add(layers.Dense(512, activation='relu'))\n",
        "model.add(layers.Dense(1, activation='sigmoid'))\n",
        "model.summary()"
      ],
      "execution_count": 8,
      "outputs": [
        {
          "output_type": "stream",
          "text": [
            "Model: \"sequential\"\n",
            "_________________________________________________________________\n",
            "Layer (type)                 Output Shape              Param #   \n",
            "=================================================================\n",
            "conv2d (Conv2D)              (None, 148, 148, 32)      896       \n",
            "_________________________________________________________________\n",
            "max_pooling2d (MaxPooling2D) (None, 74, 74, 32)        0         \n",
            "_________________________________________________________________\n",
            "conv2d_1 (Conv2D)            (None, 72, 72, 64)        18496     \n",
            "_________________________________________________________________\n",
            "max_pooling2d_1 (MaxPooling2 (None, 36, 36, 64)        0         \n",
            "_________________________________________________________________\n",
            "conv2d_2 (Conv2D)            (None, 34, 34, 128)       73856     \n",
            "_________________________________________________________________\n",
            "max_pooling2d_2 (MaxPooling2 (None, 17, 17, 128)       0         \n",
            "_________________________________________________________________\n",
            "conv2d_3 (Conv2D)            (None, 15, 15, 128)       147584    \n",
            "_________________________________________________________________\n",
            "max_pooling2d_3 (MaxPooling2 (None, 7, 7, 128)         0         \n",
            "_________________________________________________________________\n",
            "flatten (Flatten)            (None, 6272)              0         \n",
            "_________________________________________________________________\n",
            "dense (Dense)                (None, 512)               3211776   \n",
            "_________________________________________________________________\n",
            "dense_1 (Dense)              (None, 1)                 513       \n",
            "=================================================================\n",
            "Total params: 3,453,121\n",
            "Trainable params: 3,453,121\n",
            "Non-trainable params: 0\n",
            "_________________________________________________________________\n"
          ],
          "name": "stdout"
        }
      ]
    },
    {
      "cell_type": "code",
      "metadata": {
        "id": "2mG8wekxsBVS"
      },
      "source": [
        "from keras import optimizers\n",
        "model.compile(loss='binary_crossentropy', \n",
        "              optimizer=optimizers.RMSprop(lr=1e-4),\n",
        "              metrics=['acc'])"
      ],
      "execution_count": 9,
      "outputs": []
    },
    {
      "cell_type": "markdown",
      "metadata": {
        "id": "7zS4Klm8qWp6"
      },
      "source": [
        "## Using ImageDataGenerator to read images from directories\n",
        "As you know by now, data should be formatted into appropriately preprocessed floatingpoint tensors before being fed into the network. Currently, the data sits on a drive as JPEG files, so the steps for getting it into the network are roughly as follows:\n",
        "\n",
        "* Read the picture files.\n",
        "* Decode the JPEG content to RGB grids of pixels.\n",
        "* Convert these into floating-point tensors.\n",
        "* Rescale the pixel values (between 0 and 255) to the [0, 1] interval (as you know, neural networks prefer to deal with small input values).\n",
        "\n",
        "It may seem a bit daunting, but fortunately Keras has utilities to take care of these steps automatically. Keras has a module with image-processing helper tools, located at keras.preprocessing.image. In particular, it contains the class ImageDataGenerator,which lets you quickly set up Python generators that can automatically turn image files on disk into batches of preprocessed tensors."
      ]
    },
    {
      "cell_type": "code",
      "metadata": {
        "id": "XJ7XU7t9sEh6",
        "colab": {
          "base_uri": "https://localhost:8080/"
        },
        "outputId": "96dd3cf0-6c5b-45de-ff5f-189e793c1871"
      },
      "source": [
        "from keras.preprocessing.image import ImageDataGenerator\n",
        "\n",
        "train_gen = ImageDataGenerator(rescale=1./255)\n",
        "test_gen = ImageDataGenerator(rescale=1./255)\n",
        "\n",
        "train_generator = train_gen.flow_from_directory(train_dir,\n",
        "                                                    target_size=(150, 150), \n",
        "                                                    batch_size=20,\n",
        "                                                    class_mode='binary')\n",
        "\n",
        "validation_generator = test_gen.flow_from_directory(validation_dir,\n",
        "                                                        target_size=(150, 150),\n",
        "                                                        batch_size=20,\n",
        "                                                        class_mode='binary')"
      ],
      "execution_count": 10,
      "outputs": [
        {
          "output_type": "stream",
          "text": [
            "Found 2000 images belonging to 2 classes.\n",
            "Found 1000 images belonging to 2 classes.\n"
          ],
          "name": "stdout"
        }
      ]
    },
    {
      "cell_type": "markdown",
      "metadata": {
        "id": "SEgLywySqm4u"
      },
      "source": [
        "Let’s fit the model to the data using the generator. You do so using the fit_generator method, the equivalent of fit for data generators like this one. It expects as its first argument a Python generator that will yield batches of inputs and targets indefinitely,like this one does. Because the data is being generated endlessly, the Keras model needs to know how many samples to draw from the generator before declaring anepoch over. This is the role of the `steps_per_epoch` argument: after having drawn `steps_per_epoch` batches from the generator—that is, after having run for `steps_per_epoch` gradient descent steps—the fitting process will go to the next epoch. In this case, batches are 20 samples, so it will take 100 batches until you see your target of 2,000 samples.\n",
        "\n",
        "When using fit_generator, you can pass a validation_data argument, much as with the fit method. It’s important to note that this argument is allowed to be a data generator, but it could also be a tuple of Numpy arrays. If you pass a generator as validation_data, then this generator is expected to yield batches of validation data endlessly; thus you should also specify the validation_steps argument, which tells the process how many batches to draw from the validation generator for evaluation."
      ]
    },
    {
      "cell_type": "code",
      "metadata": {
        "id": "yMyfPphJsJG6",
        "colab": {
          "base_uri": "https://localhost:8080/"
        },
        "outputId": "edbc700e-5ca3-4685-d125-6288fb30d7c2"
      },
      "source": [
        "history = model.fit_generator(train_generator,\n",
        "                              steps_per_epoch=100,\n",
        "                              epochs=30,\n",
        "                              validation_data=validation_generator,\n",
        "                              validation_steps=10)"
      ],
      "execution_count": 11,
      "outputs": [
        {
          "output_type": "stream",
          "text": [
            "/usr/local/lib/python3.7/dist-packages/tensorflow/python/keras/engine/training.py:1844: UserWarning: `Model.fit_generator` is deprecated and will be removed in a future version. Please use `Model.fit`, which supports generators.\n",
            "  warnings.warn('`Model.fit_generator` is deprecated and '\n"
          ],
          "name": "stderr"
        },
        {
          "output_type": "stream",
          "text": [
            "Epoch 1/30\n",
            "100/100 [==============================] - 40s 92ms/step - loss: 0.6953 - acc: 0.5242 - val_loss: 0.6727 - val_acc: 0.6100\n",
            "Epoch 2/30\n",
            "100/100 [==============================] - 9s 89ms/step - loss: 0.6638 - acc: 0.6132 - val_loss: 0.6922 - val_acc: 0.5550\n",
            "Epoch 3/30\n",
            "100/100 [==============================] - 9s 89ms/step - loss: 0.6200 - acc: 0.6610 - val_loss: 0.6545 - val_acc: 0.6200\n",
            "Epoch 4/30\n",
            "100/100 [==============================] - 9s 89ms/step - loss: 0.5880 - acc: 0.7017 - val_loss: 0.5509 - val_acc: 0.7500\n",
            "Epoch 5/30\n",
            "100/100 [==============================] - 9s 88ms/step - loss: 0.5518 - acc: 0.7094 - val_loss: 0.5941 - val_acc: 0.6650\n",
            "Epoch 6/30\n",
            "100/100 [==============================] - 9s 88ms/step - loss: 0.5223 - acc: 0.7405 - val_loss: 0.5975 - val_acc: 0.6900\n",
            "Epoch 7/30\n",
            "100/100 [==============================] - 9s 89ms/step - loss: 0.4760 - acc: 0.7797 - val_loss: 0.5624 - val_acc: 0.7250\n",
            "Epoch 8/30\n",
            "100/100 [==============================] - 9s 89ms/step - loss: 0.4722 - acc: 0.7731 - val_loss: 0.5761 - val_acc: 0.6900\n",
            "Epoch 9/30\n",
            "100/100 [==============================] - 9s 87ms/step - loss: 0.4208 - acc: 0.8011 - val_loss: 0.5519 - val_acc: 0.7100\n",
            "Epoch 10/30\n",
            "100/100 [==============================] - 9s 87ms/step - loss: 0.4102 - acc: 0.8253 - val_loss: 0.5913 - val_acc: 0.7100\n",
            "Epoch 11/30\n",
            "100/100 [==============================] - 9s 88ms/step - loss: 0.3923 - acc: 0.8271 - val_loss: 0.5892 - val_acc: 0.7200\n",
            "Epoch 12/30\n",
            "100/100 [==============================] - 9s 87ms/step - loss: 0.3596 - acc: 0.8407 - val_loss: 0.5461 - val_acc: 0.7450\n",
            "Epoch 13/30\n",
            "100/100 [==============================] - 9s 88ms/step - loss: 0.3414 - acc: 0.8480 - val_loss: 0.4979 - val_acc: 0.7950\n",
            "Epoch 14/30\n",
            "100/100 [==============================] - 9s 89ms/step - loss: 0.3184 - acc: 0.8752 - val_loss: 0.6718 - val_acc: 0.6550\n",
            "Epoch 15/30\n",
            "100/100 [==============================] - 9s 90ms/step - loss: 0.3015 - acc: 0.8743 - val_loss: 0.5434 - val_acc: 0.7600\n",
            "Epoch 16/30\n",
            "100/100 [==============================] - 9s 89ms/step - loss: 0.2780 - acc: 0.8877 - val_loss: 0.5055 - val_acc: 0.7450\n",
            "Epoch 17/30\n",
            "100/100 [==============================] - 9s 88ms/step - loss: 0.2763 - acc: 0.8819 - val_loss: 0.5780 - val_acc: 0.7400\n",
            "Epoch 18/30\n",
            "100/100 [==============================] - 9s 87ms/step - loss: 0.2352 - acc: 0.9099 - val_loss: 0.5242 - val_acc: 0.7400\n",
            "Epoch 19/30\n",
            "100/100 [==============================] - 9s 86ms/step - loss: 0.2248 - acc: 0.9106 - val_loss: 0.7312 - val_acc: 0.7050\n",
            "Epoch 20/30\n",
            "100/100 [==============================] - 9s 88ms/step - loss: 0.2119 - acc: 0.9256 - val_loss: 0.6890 - val_acc: 0.7400\n",
            "Epoch 21/30\n",
            "100/100 [==============================] - 9s 89ms/step - loss: 0.1883 - acc: 0.9356 - val_loss: 0.6122 - val_acc: 0.7600\n",
            "Epoch 22/30\n",
            "100/100 [==============================] - 9s 90ms/step - loss: 0.1601 - acc: 0.9470 - val_loss: 0.7676 - val_acc: 0.7350\n",
            "Epoch 23/30\n",
            "100/100 [==============================] - 9s 89ms/step - loss: 0.1530 - acc: 0.9532 - val_loss: 0.4883 - val_acc: 0.7800\n",
            "Epoch 24/30\n",
            "100/100 [==============================] - 9s 89ms/step - loss: 0.1199 - acc: 0.9658 - val_loss: 0.5920 - val_acc: 0.7900\n",
            "Epoch 25/30\n",
            "100/100 [==============================] - 9s 89ms/step - loss: 0.1179 - acc: 0.9609 - val_loss: 0.9646 - val_acc: 0.7150\n",
            "Epoch 26/30\n",
            "100/100 [==============================] - 9s 89ms/step - loss: 0.1027 - acc: 0.9690 - val_loss: 0.6538 - val_acc: 0.7450\n",
            "Epoch 27/30\n",
            "100/100 [==============================] - 9s 89ms/step - loss: 0.1000 - acc: 0.9643 - val_loss: 0.8443 - val_acc: 0.7300\n",
            "Epoch 28/30\n",
            "100/100 [==============================] - 9s 89ms/step - loss: 0.0810 - acc: 0.9808 - val_loss: 0.8195 - val_acc: 0.7400\n",
            "Epoch 29/30\n",
            "100/100 [==============================] - 9s 90ms/step - loss: 0.0748 - acc: 0.9733 - val_loss: 1.0319 - val_acc: 0.6850\n",
            "Epoch 30/30\n",
            "100/100 [==============================] - 9s 89ms/step - loss: 0.0631 - acc: 0.9807 - val_loss: 0.8663 - val_acc: 0.6850\n"
          ],
          "name": "stdout"
        }
      ]
    },
    {
      "cell_type": "code",
      "metadata": {
        "id": "MZaZ2HWZsNUi",
        "colab": {
          "base_uri": "https://localhost:8080/",
          "height": 545
        },
        "outputId": "076533eb-a98e-42ea-8e63-e2bc0c647fc3"
      },
      "source": [
        "model.save('cats_and_dogs_small_1.h5')\n",
        "\n",
        "import matplotlib.pyplot as plt\n",
        "\n",
        "acc = history.history['acc']\n",
        "val_acc = history.history['val_acc']\n",
        "loss = history.history['loss']\n",
        "val_loss = history.history['val_loss']\n",
        "\n",
        "epochs = range(1, len(acc) + 1)\n",
        "\n",
        "plt.plot(epochs, acc, 'bo', label='Training acc')\n",
        "plt.plot(epochs, val_acc, 'b', label='Validation acc')\n",
        "plt.title('Training and validation accuracy')\n",
        "plt.legend()\n",
        "\n",
        "plt.figure()\n",
        "\n",
        "plt.plot(epochs, loss, 'bo', label='Training loss')\n",
        "plt.plot(epochs, val_loss, 'b', label='Validation loss')\n",
        "plt.title('Training and validation loss')\n",
        "plt.legend()\n",
        "\n",
        "plt.show()"
      ],
      "execution_count": 12,
      "outputs": [
        {
          "output_type": "display_data",
          "data": {
            "image/png": "[encoded data removed]",
            "text/plain": [
              "<Figure size 432x288 with 1 Axes>"
            ]
          },
          "metadata": {
            "tags": [],
            "needs_background": "light"
          }
        },
        {
          "output_type": "display_data",
          "data": {
            "image/png": "[encoded data removed]",
            "text/plain": [
              "<Figure size 432x288 with 1 Axes>"
            ]
          },
          "metadata": {
            "tags": [],
            "needs_background": "light"
          }
        }
      ]
    },
    {
      "cell_type": "markdown",
      "metadata": {
        "id": "XKZmXmBcq_8-"
      },
      "source": [
        "## Convolutional Networks with Dropout\n",
        "\n",
        "![alt text](https://camo.githubusercontent.com/ee6fa1073247cd2c3d241300caf110d7a7541bc5/68747470733a2f2f63646e2d696d616765732d312e6d656469756d2e636f6d2f6d61782f3830302f312a4972644a355067684439596f4f7956415137334d4a772e676966)\n",
        "\n",
        "Ref: https://github.com/mneha4/Training-Neural-Nets---Guidelines"
      ]
    },
    {
      "cell_type": "code",
      "metadata": {
        "id": "wu3cqeYQrDeN"
      },
      "source": [
        "model = models.Sequential()\n",
        "model.add(layers.Conv2D(32, (3, 3), activation='relu',\n",
        "input_shape=(150, 150, 3)))\n",
        "model.add(layers.MaxPooling2D((2, 2)))\n",
        "model.add(layers.Conv2D(64, (3, 3), activation='relu'))\n",
        "model.add(layers.MaxPooling2D((2, 2)))\n",
        "model.add(layers.Conv2D(128, (3, 3), activation='relu'))\n",
        "model.add(layers.MaxPooling2D((2, 2)))\n",
        "model.add(layers.Conv2D(128, (3, 3), activation='relu'))\n",
        "model.add(layers.MaxPooling2D((2, 2)))\n",
        "model.add(layers.Flatten())\n",
        "model.add(layers.Dropout(0.5))\n",
        "model.add(layers.Dense(512, activation='relu'))\n",
        "model.add(layers.Dense(1, activation='sigmoid'))\n",
        "\n",
        "model.compile(loss='binary_crossentropy',\n",
        "              optimizer=optimizers.RMSprop(lr=1e-4),\n",
        "              metrics=['acc'])"
      ],
      "execution_count": 13,
      "outputs": []
    },
    {
      "cell_type": "code",
      "metadata": {
        "id": "QSeLpvY0rH7F",
        "colab": {
          "base_uri": "https://localhost:8080/"
        },
        "outputId": "e855db79-4de4-4849-bee9-e10d91310fd4"
      },
      "source": [
        "\n",
        "train_gen = ImageDataGenerator(rescale=1./255,\n",
        "                                   rotation_range=40,\n",
        "                                   width_shift_range=0.2,\n",
        "                                   height_shift_range=0.2,\n",
        "                                   shear_range=0.2,\n",
        "                                   zoom_range=0.2,\n",
        "                                   horizontal_flip=True,)\n",
        "\n",
        "test_gen = ImageDataGenerator(rescale=1./255)\n",
        "\n",
        "train_generator = train_gen.flow_from_directory(train_dir,\n",
        "                                                    target_size=(150, 150),\n",
        "                                                    batch_size=32,\n",
        "                                                    class_mode='binary')\n",
        "\n",
        "validation_generator = test_gen.flow_from_directory(validation_dir,\n",
        "                                                        target_size=(150, 150),\n",
        "                                                        batch_size=32,\n",
        "                                                        class_mode='binary')\n",
        "\n",
        "history = model.fit_generator(train_generator,\n",
        "                              steps_per_epoch=100,\n",
        "                              epochs=20,\n",
        "                              validation_data=validation_generator,\n",
        "                              validation_steps=50)"
      ],
      "execution_count": 14,
      "outputs": [
        {
          "output_type": "stream",
          "text": [
            "Found 2000 images belonging to 2 classes.\n",
            "Found 1000 images belonging to 2 classes.\n"
          ],
          "name": "stdout"
        },
        {
          "output_type": "stream",
          "text": [
            "/usr/local/lib/python3.7/dist-packages/tensorflow/python/keras/engine/training.py:1844: UserWarning: `Model.fit_generator` is deprecated and will be removed in a future version. Please use `Model.fit`, which supports generators.\n",
            "  warnings.warn('`Model.fit_generator` is deprecated and '\n"
          ],
          "name": "stderr"
        },
        {
          "output_type": "stream",
          "text": [
            "Epoch 1/20\n",
            " 63/100 [=================>............] - ETA: 10s - loss: 0.7036 - acc: 0.5313WARNING:tensorflow:Your input ran out of data; interrupting training. Make sure that your dataset or generator can generate at least `steps_per_epoch * epochs` batches (in this case, 2000 batches). You may need to use the repeat() function when building your dataset.\n",
            "WARNING:tensorflow:Your input ran out of data; interrupting training. Make sure that your dataset or generator can generate at least `steps_per_epoch * epochs` batches (in this case, 50 batches). You may need to use the repeat() function when building your dataset.\n",
            "100/100 [==============================] - 23s 212ms/step - loss: 0.7018 - acc: 0.5219 - val_loss: 0.6889 - val_acc: 0.5300\n"
          ],
          "name": "stdout"
        }
      ]
    },
    {
      "cell_type": "markdown",
      "metadata": {
        "id": "BRdU5yrkUF_b"
      },
      "source": [
        "# Task 2:\n",
        "\n",
        "We have used Dropout to enhance the performance of the CNN model. Can you please use whatever you like to further enhance the performance from `val_acc: 0.7506`? "
      ]
    },
    {
      "cell_type": "code",
      "metadata": {
        "id": "qYUUV7OyU6BJ",
        "outputId": "81c46652-29a4-4438-eb48-8b06d25155d0",
        "colab": {
          "base_uri": "https://localhost:8080/"
        }
      },
      "source": [
        "m = models.Sequential()\n",
        "m.add(layers.Conv2D(32, (3, 3), activation='relu',\n",
        "input_shape=(150, 150, 3)))\n",
        "m.add(layers.MaxPooling2D((2, 2)))\n",
        "m.add(layers.Conv2D(64, (3, 3), activation='relu'))\n",
        "m.add(layers.MaxPooling2D((2, 2)))\n",
        "m.add(layers.Conv2D(128, (3, 3), activation='relu'))\n",
        "m.add(layers.MaxPooling2D((2, 2)))\n",
        "m.add(layers.Conv2D(128, (3, 3), activation='relu'))\n",
        "m.add(layers.MaxPooling2D((2, 2)))\n",
        "m.add(layers.Flatten())\n",
        "m.add(layers.Dropout(0.5))\n",
        "m.add(layers.Dense(512, activation='relu'))\n",
        "m.add(layers.Dense(1, activation='sigmoid'))\n",
        "\n",
        "m.compile(loss='binary_crossentropy',\n",
        "              optimizer=optimizers.RMSprop(lr=1e-4),\n",
        "              metrics=['acc'])\n",
        "\n",
        "\n",
        "              \n",
        "train_gen = ImageDataGenerator(rescale=1./255,\n",
        "                                   rotation_range=40,\n",
        "                                   width_shift_range=0.2,\n",
        "                                   height_shift_range=0.2,\n",
        "                                   shear_range=0.2,\n",
        "                                   zoom_range=0.2,\n",
        "                                   horizontal_flip=True,)\n",
        "\n",
        "test_gen = ImageDataGenerator(rescale=1./255)\n",
        "\n",
        "train_generator = train_gen.flow_from_directory(train_dir,\n",
        "                                                    target_size=(150, 150),\n",
        "                                                    batch_size=20,\n",
        "                                                    class_mode='binary')\n",
        "\n",
        "validation_generator = test_gen.flow_from_directory(validation_dir,\n",
        "                                                        target_size=(150, 150),\n",
        "                                                        batch_size=20,\n",
        "                                                        class_mode='binary')\n",
        "\n",
        "history = m.fit_generator(train_generator,\n",
        "                              steps_per_epoch=100,\n",
        "                              epochs=20,\n",
        "                              validation_data=validation_generator,\n",
        "                              validation_steps=50)"
      ],
      "execution_count": 15,
      "outputs": [
        {
          "output_type": "stream",
          "text": [
            "Found 2000 images belonging to 2 classes.\n",
            "Found 1000 images belonging to 2 classes.\n"
          ],
          "name": "stdout"
        },
        {
          "output_type": "stream",
          "text": [
            "/usr/local/lib/python3.7/dist-packages/tensorflow/python/keras/engine/training.py:1844: UserWarning: `Model.fit_generator` is deprecated and will be removed in a future version. Please use `Model.fit`, which supports generators.\n",
            "  warnings.warn('`Model.fit_generator` is deprecated and '\n"
          ],
          "name": "stderr"
        },
        {
          "output_type": "stream",
          "text": [
            "Epoch 1/20\n",
            "100/100 [==============================] - 23s 217ms/step - loss: 0.7000 - acc: 0.5122 - val_loss: 0.7448 - val_acc: 0.5000\n",
            "Epoch 2/20\n",
            "100/100 [==============================] - 21s 214ms/step - loss: 0.6900 - acc: 0.5205 - val_loss: 0.6862 - val_acc: 0.5140\n",
            "Epoch 3/20\n",
            "100/100 [==============================] - 21s 214ms/step - loss: 0.6785 - acc: 0.5637 - val_loss: 0.6562 - val_acc: 0.5820\n",
            "Epoch 4/20\n",
            "100/100 [==============================] - 22s 216ms/step - loss: 0.6562 - acc: 0.6083 - val_loss: 0.6402 - val_acc: 0.6170\n",
            "Epoch 5/20\n",
            "100/100 [==============================] - 22s 215ms/step - loss: 0.6490 - acc: 0.5983 - val_loss: 0.6827 - val_acc: 0.5290\n",
            "Epoch 6/20\n",
            "100/100 [==============================] - 21s 213ms/step - loss: 0.6417 - acc: 0.6064 - val_loss: 0.6108 - val_acc: 0.6750\n",
            "Epoch 7/20\n",
            "100/100 [==============================] - 21s 215ms/step - loss: 0.6324 - acc: 0.6306 - val_loss: 0.6177 - val_acc: 0.6500\n",
            "Epoch 8/20\n",
            "100/100 [==============================] - 21s 215ms/step - loss: 0.6068 - acc: 0.6507 - val_loss: 0.6820 - val_acc: 0.5630\n",
            "Epoch 9/20\n",
            "100/100 [==============================] - 21s 215ms/step - loss: 0.6043 - acc: 0.6567 - val_loss: 0.5822 - val_acc: 0.6880\n",
            "Epoch 10/20\n",
            "100/100 [==============================] - 21s 215ms/step - loss: 0.5852 - acc: 0.6726 - val_loss: 0.5927 - val_acc: 0.6790\n",
            "Epoch 11/20\n",
            "100/100 [==============================] - 21s 214ms/step - loss: 0.5946 - acc: 0.6814 - val_loss: 0.5835 - val_acc: 0.6860\n",
            "Epoch 12/20\n",
            "100/100 [==============================] - 21s 214ms/step - loss: 0.5785 - acc: 0.6963 - val_loss: 0.5800 - val_acc: 0.6740\n",
            "Epoch 13/20\n",
            "100/100 [==============================] - 21s 214ms/step - loss: 0.6002 - acc: 0.6847 - val_loss: 0.5760 - val_acc: 0.7010\n",
            "Epoch 14/20\n",
            "100/100 [==============================] - 22s 215ms/step - loss: 0.5965 - acc: 0.6903 - val_loss: 0.7008 - val_acc: 0.5990\n",
            "Epoch 15/20\n",
            "100/100 [==============================] - 22s 216ms/step - loss: 0.5770 - acc: 0.7048 - val_loss: 0.5599 - val_acc: 0.6930\n",
            "Epoch 16/20\n",
            "100/100 [==============================] - 21s 214ms/step - loss: 0.5796 - acc: 0.7079 - val_loss: 0.5564 - val_acc: 0.7010\n",
            "Epoch 17/20\n",
            "100/100 [==============================] - 21s 212ms/step - loss: 0.5483 - acc: 0.7176 - val_loss: 0.5550 - val_acc: 0.7120\n",
            "Epoch 18/20\n",
            "100/100 [==============================] - 21s 214ms/step - loss: 0.5637 - acc: 0.7226 - val_loss: 0.5615 - val_acc: 0.7020\n",
            "Epoch 19/20\n",
            "100/100 [==============================] - 22s 215ms/step - loss: 0.5275 - acc: 0.7320 - val_loss: 0.5284 - val_acc: 0.7270\n",
            "Epoch 20/20\n",
            "100/100 [==============================] - 22s 216ms/step - loss: 0.5669 - acc: 0.7127 - val_loss: 0.5750 - val_acc: 0.6970\n"
          ],
          "name": "stdout"
        }
      ]
    },
    {
      "cell_type": "code",
      "metadata": {
        "id": "DpNGAXnmVrD2"
      },
      "source": [
        ""
      ],
      "execution_count": null,
      "outputs": []
    }
  ]
}